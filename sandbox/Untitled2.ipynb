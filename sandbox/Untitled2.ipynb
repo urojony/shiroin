{
 "cells": [
  {
   "cell_type": "code",
   "execution_count": 2,
   "metadata": {},
   "outputs": [
    {
     "name": "stdout",
     "output_type": "stream",
     "text": [
      "numerator: $$2a^2-2ab-2ac+2b^2-2bc+2c^2$$\n",
      "denominator: $$1$$\n",
      "status: 0\n",
      "From weighted AM-GM inequality:\n",
      "$$2ab \\le a^2+b^2$$\n",
      "$$2ac \\le a^2+c^2$$\n",
      "$$2bc \\le b^2+c^2$$\n",
      "\n",
      "$$  0  \\le \n",
      "0  $$\n",
      "Sum of all inequalities gives us a desired proof.\n"
     ]
    },
    {
     "data": {
      "text/plain": [
       "0"
      ]
     },
     "execution_count": 2,
     "metadata": {},
     "output_type": "execute_result"
    }
   ],
   "source": [
    "from shirod2 import *\n",
    "prove('(a^2+b^2+c^2-a*b-a*c-b*c)*2')"
   ]
  },
  {
   "cell_type": "code",
   "execution_count": null,
   "metadata": {},
   "outputs": [],
   "source": []
  }
 ],
 "metadata": {
  "kernelspec": {
   "display_name": "Python 2",
   "language": "python",
   "name": "python2"
  },
  "language_info": {
   "codemirror_mode": {
    "name": "ipython",
    "version": 2
   },
   "file_extension": ".py",
   "mimetype": "text/x-python",
   "name": "python",
   "nbconvert_exporter": "python",
   "pygments_lexer": "ipython2",
   "version": "2.7.17"
  }
 },
 "nbformat": 4,
 "nbformat_minor": 2
}
