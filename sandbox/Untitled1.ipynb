{
 "cells": [
  {
   "cell_type": "code",
   "execution_count": 3,
   "metadata": {},
   "outputs": [
    {
     "name": "stdout",
     "output_type": "stream",
     "text": [
      "numerator: $$a^2-ab-ac+b^2-bc+c^2$$\n",
      "denominator: $$1$$\n",
      "status: 0\n",
      "From weighted AM-GM inequality:\n",
      "\n",
      "Program couldn't find a solution with integer coefficients. Try to multiple the formula by some integer and run this function again.\n",
      "$$  ab+ac+bc  \\le \n",
      "a^2+b^2+c^2  $$\n"
     ]
    },
    {
     "data": {
      "text/plain": [
       "0"
      ]
     },
     "execution_count": 3,
     "metadata": {},
     "output_type": "execute_result"
    }
   ],
   "source": [
    "from shirod2 import *\n",
    "prove('(a^2+b^2+c^2-a*b-a*c-b*c)')"
   ]
  },
  {
   "cell_type": "code",
   "execution_count": null,
   "metadata": {},
   "outputs": [],
   "source": []
  }
 ],
 "metadata": {
  "kernelspec": {
   "display_name": "Python 3",
   "language": "python",
   "name": "python3"
  },
  "language_info": {
   "codemirror_mode": {
    "name": "ipython",
    "version": 2
   },
   "file_extension": ".py",
   "mimetype": "text/x-python",
   "name": "python",
   "nbconvert_exporter": "python",
   "pygments_lexer": "ipython2",
   "version": "2.7.17"
  }
 },
 "nbformat": 4,
 "nbformat_minor": 2
}
